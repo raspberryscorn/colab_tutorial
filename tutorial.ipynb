{
  "nbformat": 4,
  "nbformat_minor": 0,
  "metadata": {
    "colab": {
      "provenance": [],
      "mount_file_id": "1L4DLip4q2vj-HZtxCrVtyfZqB_8JsNJJ",
      "authorship_tag": "ABX9TyN7xxu8N7YvGIqIkHuTvnjn",
      "include_colab_link": true
    },
    "kernelspec": {
      "name": "python3",
      "display_name": "Python 3"
    },
    "language_info": {
      "name": "python"
    }
  },
  "cells": [
    {
      "cell_type": "markdown",
      "metadata": {
        "id": "view-in-github",
        "colab_type": "text"
      },
      "source": [
        "<a href=\"https://colab.research.google.com/github/raspberryscorn/colab_tutorial/blob/main/tutorial.ipynb\" target=\"_parent\"><img src=\"https://colab.research.google.com/assets/colab-badge.svg\" alt=\"Open In Colab\"/></a>"
      ]
    },
    {
      "cell_type": "code",
      "source": [
        "from google.colab import drive\n",
        "drive.mount('/content/drive/')"
      ],
      "metadata": {
        "id": "fNAHJYA56390"
      },
      "execution_count": null,
      "outputs": []
    },
    {
      "cell_type": "markdown",
      "source": [
        "본인 계정의 구글 드라이브에 연동."
      ],
      "metadata": {
        "id": "lmfs122E7IH1"
      }
    },
    {
      "cell_type": "code",
      "execution_count": null,
      "metadata": {
        "colab": {
          "base_uri": "https://localhost:8080/"
        },
        "id": "rj7fyAT0L3Mo",
        "outputId": "28f56513-d4c3-4b14-ef6b-894c34861702"
      },
      "outputs": [
        {
          "output_type": "stream",
          "name": "stdout",
          "text": [
            "/content/drive/MyDrive/ddeep\n"
          ]
        }
      ],
      "source": [
        "cd \"/content/drive/MyDrive/ddeep\""
      ]
    },
    {
      "cell_type": "markdown",
      "source": [
        "구글 드라이브에 \"ddeep\"이라는 폴더 생성 후 컴파일.\n",
        "ddeep은 내마음대로 정한 이름."
      ],
      "metadata": {
        "id": "3sYLDywH7PMd"
      }
    },
    {
      "cell_type": "code",
      "source": [
        "!git clone http://github.com/needleworm/bhban_ai"
      ],
      "metadata": {
        "id": "66EixQZiMDPj"
      },
      "execution_count": null,
      "outputs": []
    },
    {
      "cell_type": "markdown",
      "source": [
        "교재 저자의 github를 통해 예제원본 다운로드. 다운로드 후 각 폴더의 이름을 자신에게 맞게 수정바람. 폴더명이 한글일 경우 컴파일이 안되는 경우가 허다함.\n",
        "\"[2편] 인간의 뇌세포를 흉내 낸 인공지능 - FNN\" => \"SECTION_2\"\n",
        "\"[5장] 분류(Classification) 기법 활용하기\" => \"Chapter_5\""
      ],
      "metadata": {
        "id": "lf-M5WkU7YVM"
      }
    }
  ]
}