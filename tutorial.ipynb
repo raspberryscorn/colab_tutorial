{
  "nbformat": 4,
  "nbformat_minor": 0,
  "metadata": {
    "colab": {
      "provenance": [],
      "mount_file_id": "1L4DLip4q2vj-HZtxCrVtyfZqB_8JsNJJ",
      "authorship_tag": "ABX9TyPNoEZ5V3qQW/hk1p8HTqXi",
      "include_colab_link": true
    },
    "kernelspec": {
      "name": "python3",
      "display_name": "Python 3"
    },
    "language_info": {
      "name": "python"
    }
  },
  "cells": [
    {
      "cell_type": "markdown",
      "metadata": {
        "id": "view-in-github",
        "colab_type": "text"
      },
      "source": [
        "<a href=\"https://colab.research.google.com/github/raspberryscorn/colab_tutorial/blob/main/tutorial.ipynb\" target=\"_parent\"><img src=\"https://colab.research.google.com/assets/colab-badge.svg\" alt=\"Open In Colab\"/></a>"
      ]
    },
    {
      "cell_type": "code",
      "source": [
        "from google.colab import drive\n",
        "drive.mount('/content/drive/')"
      ],
      "metadata": {
        "id": "fNAHJYA56390"
      },
      "execution_count": null,
      "outputs": []
    },
    {
      "cell_type": "code",
      "execution_count": null,
      "metadata": {
        "colab": {
          "base_uri": "https://localhost:8080/"
        },
        "id": "rj7fyAT0L3Mo",
        "outputId": "28f56513-d4c3-4b14-ef6b-894c34861702"
      },
      "outputs": [
        {
          "output_type": "stream",
          "name": "stdout",
          "text": [
            "/content/drive/MyDrive/ddeep\n"
          ]
        }
      ],
      "source": [
        "cd \"/content/drive/MyDrive/ddeep\""
      ]
    },
    {
      "cell_type": "code",
      "source": [
        "!git clone http://github.com/needleworm/bhban_ai"
      ],
      "metadata": {
        "id": "66EixQZiMDPj"
      },
      "execution_count": null,
      "outputs": []
    }
  ]
}